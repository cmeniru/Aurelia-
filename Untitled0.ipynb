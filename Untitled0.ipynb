{
  "nbformat": 4,
  "nbformat_minor": 0,
  "metadata": {
    "colab": {
      "name": "Untitled0.ipynb",
      "provenance": [],
      "collapsed_sections": [],
      "authorship_tag": "ABX9TyOwoTDbVE5tqOoN4I1cI3pS",
      "include_colab_link": true
    },
    "kernelspec": {
      "name": "python3",
      "display_name": "Python 3"
    }
  },
  "cells": [
    {
      "cell_type": "markdown",
      "metadata": {
        "id": "view-in-github",
        "colab_type": "text"
      },
      "source": [
        "<a href=\"https://colab.research.google.com/github/cmeniru/Aurelia-/blob/master/Untitled0.ipynb\" target=\"_parent\"><img src=\"https://colab.research.google.com/assets/colab-badge.svg\" alt=\"Open In Colab\"/></a>"
      ]
    },
    {
      "cell_type": "code",
      "metadata": {
        "id": "b5eWYScjIJl5",
        "colab_type": "code",
        "outputId": "0936fc5f-cd16-4cab-96e3-694226c11074",
        "colab": {
          "base_uri": "https://localhost:8080/",
          "height": 153
        }
      },
      "source": [
        "print(\"Hello World\")\n",
        "print(5+7)\n",
        "print(2-3)\n",
        "height = 1.68\n",
        "weight = 58\n",
        "bmi = weight / height ** 2\n",
        "print(bmi)\n",
        "type(bmi)\n",
        "a = \"Hello, World!\"\n",
        "print(a[1])\n",
        "print(a[7:12])\n",
        "x = \"I love working \"\n",
        "y = \"with python\"\n",
        "z = x + y\n",
        "print(z)\n",
        "print(len(z))\n"
      ],
      "execution_count": 0,
      "outputs": [
        {
          "output_type": "stream",
          "text": [
            "Hello World\n",
            "12\n",
            "-1\n",
            "20.549886621315196\n",
            "e\n",
            "World\n",
            "I love working with python\n",
            "26\n"
          ],
          "name": "stdout"
        }
      ]
    },
    {
      "cell_type": "code",
      "metadata": {
        "id": "5e8D4ZfP7m2J",
        "colab_type": "code",
        "outputId": "a38f8f4a-ac06-4966-efc6-0e22840821b7",
        "colab": {
          "base_uri": "https://localhost:8080/",
          "height": 68
        }
      },
      "source": [
        "x = int(input(\"Enter a number: \"))\n",
        "print(x)\n",
        "type(x)\n",
        "print(x ** 2)"
      ],
      "execution_count": 0,
      "outputs": [
        {
          "output_type": "stream",
          "text": [
            "Enter a number: 29\n",
            "29\n",
            "841\n"
          ],
          "name": "stdout"
        }
      ]
    },
    {
      "cell_type": "code",
      "metadata": {
        "id": "DFYeblIs-R-M",
        "colab_type": "code",
        "outputId": "8cee1309-ff96-4191-c786-ec0bfd863206",
        "colab": {
          "base_uri": "https://localhost:8080/",
          "height": 68
        }
      },
      "source": [
        "a = \"Program\"\n",
        "print(a[2])\n",
        "print(a[3:7])\n",
        "str.islower(a)\n",
        "\n"
      ],
      "execution_count": 0,
      "outputs": [
        {
          "output_type": "stream",
          "text": [
            "o\n",
            "gram\n"
          ],
          "name": "stdout"
        },
        {
          "output_type": "execute_result",
          "data": {
            "text/plain": [
              "False"
            ]
          },
          "metadata": {
            "tags": []
          },
          "execution_count": 10
        }
      ]
    },
    {
      "cell_type": "code",
      "metadata": {
        "id": "t54rTzzEG1Sc",
        "colab_type": "code",
        "outputId": "a11adaf3-6fb8-4b10-d14e-87d9c6f3f576",
        "colab": {
          "base_uri": "https://localhost:8080/",
          "height": 34
        }
      },
      "source": [
        "type(a)"
      ],
      "execution_count": 0,
      "outputs": [
        {
          "output_type": "execute_result",
          "data": {
            "text/plain": [
              "str"
            ]
          },
          "metadata": {
            "tags": []
          },
          "execution_count": 11
        }
      ]
    },
    {
      "cell_type": "code",
      "metadata": {
        "id": "cu0g_6BtSWZo",
        "colab_type": "code",
        "outputId": "090ff68c-4739-44c5-8e5d-f1925697ad38",
        "colab": {
          "base_uri": "https://localhost:8080/",
          "height": 34
        }
      },
      "source": [
        "firstname = \"Irene\"\n",
        "lastname = \"Meniru\"\n",
        "print(\"Hello\", firstname, lastname, \"!\", \"you just delved into python\")\n"
      ],
      "execution_count": 0,
      "outputs": [
        {
          "output_type": "stream",
          "text": [
            "Hello Irene Meniru ! you just delved into python\n"
          ],
          "name": "stdout"
        }
      ]
    },
    {
      "cell_type": "code",
      "metadata": {
        "id": "SGSjOwAbiueF",
        "colab_type": "code",
        "outputId": "72f4a7d9-0dfb-4934-cf0c-5a2d9976efda",
        "colab": {
          "base_uri": "https://localhost:8080/",
          "height": 68
        }
      },
      "source": [
        "fam = [1.73,1.62,1.89,1.99]\n",
        "print(fam)\n",
        "fam2 = [[\"Val\",1.73,\"Inno\",1.62,\"Irene\",1.89,\"David\",1.99]]\n",
        "print(fam2)\n",
        "type(fam)\n",
        "type(fam2)\n"
      ],
      "execution_count": 0,
      "outputs": [
        {
          "output_type": "stream",
          "text": [
            "[1.73, 1.62, 1.89, 1.99]\n",
            "[['Val', 1.73, 'Inno', 1.62, 'Irene', 1.89, 'David', 1.99]]\n"
          ],
          "name": "stdout"
        },
        {
          "output_type": "execute_result",
          "data": {
            "text/plain": [
              "list"
            ]
          },
          "metadata": {
            "tags": []
          },
          "execution_count": 13
        }
      ]
    },
    {
      "cell_type": "code",
      "metadata": {
        "id": "CLM0rR7-m-Kq",
        "colab_type": "code",
        "outputId": "4996a8b1-0aa2-438d-db29-6afd551a7fb1",
        "colab": {
          "base_uri": "https://localhost:8080/",
          "height": 119
        }
      },
      "source": [
        "fam3 = [\"Val\",1.73,\"Inno\",1.62,\"Irene\",1.89,\"David\",1.99]\n",
        "print(fam3)\n",
        "print(fam[-1])\n",
        "print(fam[0])\n",
        "print(fam3[-8])\n",
        "fam3[3:]\n",
        "fam3[2:6]\n",
        "fam3[3] = 1.93\n",
        "print(fam3)\n",
        "fam3[0:2] = \"Valentine\", 1.88\n",
        "print(fam3)"
      ],
      "execution_count": 0,
      "outputs": [
        {
          "output_type": "stream",
          "text": [
            "['Val', 1.73, 'Inno', 1.62, 'Irene', 1.89, 'David', 1.99]\n",
            "1.99\n",
            "1.73\n",
            "Val\n",
            "['Val', 1.73, 'Inno', 1.93, 'Irene', 1.89, 'David', 1.99]\n",
            "['Valentine', 1.88, 'Inno', 1.93, 'Irene', 1.89, 'David', 1.99]\n"
          ],
          "name": "stdout"
        }
      ]
    },
    {
      "cell_type": "code",
      "metadata": {
        "id": "mFpUM-TztzaQ",
        "colab_type": "code",
        "outputId": "2f603bb1-b172-4a58-9ea0-8669b4ee3d8f",
        "colab": {
          "base_uri": "https://localhost:8080/",
          "height": 34
        }
      },
      "source": [
        "fam_ext = fam3 + [\"Divine\",1.56]\n",
        "print(fam_ext)"
      ],
      "execution_count": 0,
      "outputs": [
        {
          "output_type": "stream",
          "text": [
            "['Valentine', 1.88, 'Inno', 1.93, 'Irene', 1.89, 'David', 1.99, 'Divine', 1.56]\n"
          ],
          "name": "stdout"
        }
      ]
    },
    {
      "cell_type": "code",
      "metadata": {
        "id": "pUXi42GouqtM",
        "colab_type": "code",
        "outputId": "cbf589f5-36f1-4888-c3f0-148c66e0463f",
        "colab": {
          "base_uri": "https://localhost:8080/",
          "height": 34
        }
      },
      "source": [
        "del(fam3[7])\n",
        "print(fam3)"
      ],
      "execution_count": 0,
      "outputs": [
        {
          "output_type": "stream",
          "text": [
            "['Valentine', 1.88, 'Inno', 1.93, 'Irene', 1.89, 'David']\n"
          ],
          "name": "stdout"
        }
      ]
    },
    {
      "cell_type": "code",
      "metadata": {
        "id": "z2YUMHOUvNcB",
        "colab_type": "code",
        "outputId": "bba38acb-5667-4e07-862e-c1f8a94038c1",
        "colab": {
          "base_uri": "https://localhost:8080/",
          "height": 34
        }
      },
      "source": [
        "del(fam_ext[5])\n",
        "print(fam_ext)"
      ],
      "execution_count": 0,
      "outputs": [
        {
          "output_type": "stream",
          "text": [
            "['Valentine', 1.88, 'Inno', 1.93, 'Irene', 'David', 1.99, 'Divine', 1.56]\n"
          ],
          "name": "stdout"
        }
      ]
    },
    {
      "cell_type": "code",
      "metadata": {
        "id": "cyf6YQo1x_5-",
        "colab_type": "code",
        "outputId": "881d24e6-6b0a-466c-997b-15784d17c631",
        "colab": {
          "base_uri": "https://localhost:8080/",
          "height": 34
        }
      },
      "source": [
        "x = [\"a\", \"b\", \"c\"]\n",
        "y = x[:]\n",
        "y[2] = \"d\"\n",
        "print(y)\n"
      ],
      "execution_count": 0,
      "outputs": [
        {
          "output_type": "stream",
          "text": [
            "['a', 'b', 'd']\n"
          ],
          "name": "stdout"
        }
      ]
    },
    {
      "cell_type": "code",
      "metadata": {
        "id": "Xq6ekHNm3WlX",
        "colab_type": "code",
        "colab": {}
      },
      "source": [
        "list1 = [10,20,[300,400,[5000,6000],500],30,40]"
      ],
      "execution_count": 0,
      "outputs": []
    },
    {
      "cell_type": "code",
      "metadata": {
        "id": "hTcRWFKGKjHX",
        "colab_type": "code",
        "outputId": "7e02ac6a-ab3c-4f60-ef94-a99dab0f444c",
        "colab": {
          "base_uri": "https://localhost:8080/",
          "height": 51
        }
      },
      "source": [
        "print(36/4*(3+2)*4+2)\n",
        "aTuple = (\"orange\")\n",
        "print(type(aTuple))"
      ],
      "execution_count": 0,
      "outputs": [
        {
          "output_type": "stream",
          "text": [
            "182.0\n",
            "<class 'str'>\n"
          ],
          "name": "stdout"
        }
      ]
    },
    {
      "cell_type": "code",
      "metadata": {
        "id": "QIQWqO9JMZDc",
        "colab_type": "code",
        "outputId": "4ac1fd1f-d2f5-471e-a925-4eb8cec31fd6",
        "colab": {
          "base_uri": "https://localhost:8080/",
          "height": 51
        }
      },
      "source": [
        "aTuple = \"yellow\", 20, \"red\"\n",
        "a, b, c = aTuple\n",
        "print(a)\n",
        "print(b)"
      ],
      "execution_count": 0,
      "outputs": [
        {
          "output_type": "stream",
          "text": [
            "yellow\n",
            "20\n"
          ],
          "name": "stdout"
        }
      ]
    },
    {
      "cell_type": "code",
      "metadata": {
        "id": "3zIDgwnLNEsO",
        "colab_type": "code",
        "outputId": "f5423f63-cdad-4804-9598-b8f89a842c7b",
        "colab": {
          "base_uri": "https://localhost:8080/",
          "height": 68
        }
      },
      "source": [
        "aList = [10, 20, 30, 40, 50, 60, 70, 80]\n",
        "print(aList[2:5])\n",
        "print(aList[:4])\n",
        "print(aList[3:])"
      ],
      "execution_count": 0,
      "outputs": [
        {
          "output_type": "stream",
          "text": [
            "[30, 40, 50]\n",
            "[10, 20, 30, 40]\n",
            "[40, 50, 60, 70, 80]\n"
          ],
          "name": "stdout"
        }
      ]
    },
    {
      "cell_type": "code",
      "metadata": {
        "id": "DKbNRm2gOQUy",
        "colab_type": "code",
        "outputId": "cf11851e-8aeb-4a51-f2db-8a93f677bd98",
        "colab": {
          "base_uri": "https://localhost:8080/",
          "height": 34
        }
      },
      "source": [
        "lst = [3, 4, 6, 1, 2]\n",
        "lst[1:2] = [7, 8]\n",
        "print(lst)"
      ],
      "execution_count": 0,
      "outputs": [
        {
          "output_type": "stream",
          "text": [
            "[3, 7, 8, 6, 1, 2]\n"
          ],
          "name": "stdout"
        }
      ]
    },
    {
      "cell_type": "code",
      "metadata": {
        "id": "F9V9nI7uP1Zb",
        "colab_type": "code",
        "outputId": "3d7b9d4e-c87c-4636-f754-898e55727469",
        "colab": {
          "base_uri": "https://localhost:8080/",
          "height": 34
        }
      },
      "source": [
        "listOne = [\"a\", \"b\", \"c\", \"d\"]\n",
        "listTwo = [\"e\", \"f\", \"g\"]\n",
        "newList = listOne + listTwo\n",
        "print(newList)"
      ],
      "execution_count": 0,
      "outputs": [
        {
          "output_type": "stream",
          "text": [
            "['a', 'b', 'c', 'd', 'e', 'f', 'g']\n"
          ],
          "name": "stdout"
        }
      ]
    },
    {
      "cell_type": "code",
      "metadata": {
        "id": "UWGY4WqEQ21A",
        "colab_type": "code",
        "outputId": "19d8a4bd-cb54-4db4-a4e6-d5539de98e14",
        "colab": {
          "base_uri": "https://localhost:8080/",
          "height": 34
        }
      },
      "source": [
        "listOne = [\"a\", \"b\", \"c\", \"d\"]\n",
        "listTwo = [\"e\", \"f\", \"g\"]\n",
        "listOne.extend(listTwo)\n",
        "print(listOne)"
      ],
      "execution_count": 0,
      "outputs": [
        {
          "output_type": "stream",
          "text": [
            "['a', 'b', 'c', 'd', 'e', 'f', 'g']\n"
          ],
          "name": "stdout"
        }
      ]
    },
    {
      "cell_type": "code",
      "metadata": {
        "id": "nC6Sr6pXVyvE",
        "colab_type": "code",
        "outputId": "83200228-de5b-4c7d-a675-307ecfbca5a5",
        "colab": {
          "base_uri": "https://localhost:8080/",
          "height": 85
        }
      },
      "source": [
        "pets = [\"cats\", \"dogs\", \"rabbits\", \"hamsters\"]\n",
        "for myPets in pets:\n",
        " print(myPets)"
      ],
      "execution_count": 0,
      "outputs": [
        {
          "output_type": "stream",
          "text": [
            "cats\n",
            "dogs\n",
            "rabbits\n",
            "hamsters\n"
          ],
          "name": "stdout"
        }
      ]
    },
    {
      "cell_type": "code",
      "metadata": {
        "id": "KbT_YRlDbwKM",
        "colab_type": "code",
        "outputId": "592db869-abe0-4778-d1bb-37f9e9807464",
        "colab": {
          "base_uri": "https://localhost:8080/",
          "height": 34
        }
      },
      "source": [
        "x = range(1,5)\n",
        "total = 0\n",
        "for n in x:\n",
        "  total = total + n\n",
        "print(total)"
      ],
      "execution_count": 0,
      "outputs": [
        {
          "output_type": "stream",
          "text": [
            "10\n"
          ],
          "name": "stdout"
        }
      ]
    },
    {
      "cell_type": "code",
      "metadata": {
        "id": "_idHyzjCiGmB",
        "colab_type": "code",
        "outputId": "607f20ba-ea3e-4174-dbaf-444eb61c5e0d",
        "colab": {
          "base_uri": "https://localhost:8080/",
          "height": 51
        }
      },
      "source": [
        "c = list(range(2,20))\n",
        "total2 = 0\n",
        "for z in range(2,20):\n",
        "  total2 = total2 + z\n",
        "print(total2)\n",
        "print(c)"
      ],
      "execution_count": 0,
      "outputs": [
        {
          "output_type": "stream",
          "text": [
            "189\n",
            "[2, 3, 4, 5, 6, 7, 8, 9, 10, 11, 12, 13, 14, 15, 16, 17, 18, 19]\n"
          ],
          "name": "stdout"
        }
      ]
    },
    {
      "cell_type": "code",
      "metadata": {
        "id": "iV54E856le3u",
        "colab_type": "code",
        "outputId": "ec6a0569-3859-46ff-bb27-88c1146ec18b",
        "colab": {
          "base_uri": "https://localhost:8080/",
          "height": 34
        }
      },
      "source": [
        "d = list(range (1,100))\n",
        "total3 = 0\n",
        "for i in range(1,100):\n",
        " if i % 3 == 0:\n",
        "  total3 += i\n",
        "print(total3)\n"
      ],
      "execution_count": 0,
      "outputs": [
        {
          "output_type": "stream",
          "text": [
            "1683\n"
          ],
          "name": "stdout"
        }
      ]
    },
    {
      "cell_type": "code",
      "metadata": {
        "id": "TvhZ_4mHtdNJ",
        "colab_type": "code",
        "outputId": "a7cb9b23-5e5a-4a72-c582-0f709a9b7284",
        "colab": {
          "base_uri": "https://localhost:8080/",
          "height": 119
        }
      },
      "source": [
        "w = \"family\"\n",
        "for c in \"family\":\n",
        "  print(c.capitalize())\n"
      ],
      "execution_count": 0,
      "outputs": [
        {
          "output_type": "stream",
          "text": [
            "F\n",
            "A\n",
            "M\n",
            "I\n",
            "L\n",
            "Y\n"
          ],
          "name": "stdout"
        }
      ]
    },
    {
      "cell_type": "code",
      "metadata": {
        "id": "etmu-yXku3vu",
        "colab_type": "code",
        "outputId": "7a2fc745-fefb-4480-87e5-79f712a51ee8",
        "colab": {
          "base_uri": "https://localhost:8080/",
          "height": 102
        }
      },
      "source": [
        "fam_heights = [1.73, 1.62, 1.89, 1.65, 1.99]\n",
        "for index, height in enumerate(fam_heights):\n",
        " print(index, height)"
      ],
      "execution_count": 0,
      "outputs": [
        {
          "output_type": "stream",
          "text": [
            "0 1.73\n",
            "1 1.62\n",
            "2 1.89\n",
            "3 1.65\n",
            "4 1.99\n"
          ],
          "name": "stdout"
        }
      ]
    },
    {
      "cell_type": "code",
      "metadata": {
        "id": "Jfxfx4a1v9cO",
        "colab_type": "code",
        "outputId": "a661809e-58d5-478f-e81d-e5d882f87667",
        "colab": {
          "base_uri": "https://localhost:8080/",
          "height": 102
        }
      },
      "source": [
        "for index, height in enumerate(fam_heights):\n",
        " print(\"index \" + str(index) + \": \" + str(height))"
      ],
      "execution_count": 0,
      "outputs": [
        {
          "output_type": "stream",
          "text": [
            "index 0: 1.73\n",
            "index 1: 1.62\n",
            "index 2: 1.89\n",
            "index 3: 1.65\n",
            "index 4: 1.99\n"
          ],
          "name": "stdout"
        }
      ]
    },
    {
      "cell_type": "code",
      "metadata": {
        "id": "kj4aq1Mz1uiz",
        "colab_type": "code",
        "outputId": "d9a884a7-6f55-4e33-be24-7280c164ca22",
        "colab": {
          "base_uri": "https://localhost:8080/",
          "height": 34
        }
      },
      "source": [
        "given_list = [5, 4, 4, 3, 1, -2, -3, -5]\n",
        "total4 = 0\n",
        "i = 0\n",
        "while given_list[i] > 0:\n",
        " total4 += given_list[i]\n",
        " i += 1\n",
        "print(total4)"
      ],
      "execution_count": 0,
      "outputs": [
        {
          "output_type": "stream",
          "text": [
            "17\n"
          ],
          "name": "stdout"
        }
      ]
    },
    {
      "cell_type": "code",
      "metadata": {
        "id": "Brwj39qE468d",
        "colab_type": "code",
        "outputId": "7efbfd34-5dbc-45de-84de-a3779a2a5ac3",
        "colab": {
          "base_uri": "https://localhost:8080/",
          "height": 34
        }
      },
      "source": [
        "given_list = [5, 4, 4, 3, 1]\n",
        "total4 = 0\n",
        "i = 0\n",
        "while i < len(given_list) and given_list[i] > 0:\n",
        " total4 += given_list[i]\n",
        " i += 1\n",
        "print(total4)"
      ],
      "execution_count": 0,
      "outputs": [
        {
          "output_type": "stream",
          "text": [
            "17\n"
          ],
          "name": "stdout"
        }
      ]
    },
    {
      "cell_type": "code",
      "metadata": {
        "id": "IhA6i9Tj-LhB",
        "colab_type": "code",
        "outputId": "ba6659f8-61a7-4c5c-97d4-467b83f07f44",
        "colab": {
          "base_uri": "https://localhost:8080/",
          "height": 34
        }
      },
      "source": [
        "given_list2 = [5, 4, 4, 3, 1, -2, -3, -5]\n",
        "total5 = 0\n",
        "for element in given_list2:\n",
        "  if element <= 0:\n",
        "   break\n",
        "  total5 += element\n",
        "print(total5)\n"
      ],
      "execution_count": 0,
      "outputs": [
        {
          "output_type": "stream",
          "text": [
            "17\n"
          ],
          "name": "stdout"
        }
      ]
    },
    {
      "cell_type": "code",
      "metadata": {
        "id": "SQNoeYu7-_2Z",
        "colab_type": "code",
        "outputId": "7af25fde-32e7-4aa0-b2a0-ea8c9aab73a3",
        "colab": {
          "base_uri": "https://localhost:8080/",
          "height": 34
        }
      },
      "source": [
        "given_list2 = [5, 4, 4, 3, 1, -2, -3, -5]\n",
        "total6 = 0\n",
        "i = 0\n",
        "while True:\n",
        " total6 += given_list2[i]\n",
        " i += 1\n",
        " if given_list2[i] <= 0:\n",
        "  break\n",
        "print(total6)"
      ],
      "execution_count": 0,
      "outputs": [
        {
          "output_type": "stream",
          "text": [
            "17\n"
          ],
          "name": "stdout"
        }
      ]
    },
    {
      "cell_type": "code",
      "metadata": {
        "id": "NpnvK7EPAV3S",
        "colab_type": "code",
        "outputId": "86649c00-138c-41f9-ed00-57ee22d06b01",
        "colab": {
          "base_uri": "https://localhost:8080/",
          "height": 34
        }
      },
      "source": [
        "given_list3 =[7, 5, 4, 4, 3, 1, -2, -3, -5, -7]\n",
        "total7 = 0\n",
        "i = -4\n",
        "while True:\n",
        "  total7 += given_list3[i]\n",
        "  i += 1\n",
        "  if given_list3[i] >= 0: \n",
        "   break\n",
        "print(total7)"
      ],
      "execution_count": 0,
      "outputs": [
        {
          "output_type": "stream",
          "text": [
            "-17\n"
          ],
          "name": "stdout"
        }
      ]
    },
    {
      "cell_type": "code",
      "metadata": {
        "id": "79gwyE-ACvYq",
        "colab_type": "code",
        "outputId": "97ba545a-3a59-446e-8027-3e871722a413",
        "colab": {
          "base_uri": "https://localhost:8080/",
          "height": 34
        }
      },
      "source": [
        "given_list3 =[7, 5, 4, 4, 3, 1, -2, -3, -5, -7]\n",
        "total8 = 0\n",
        "for element in given_list3:\n",
        "  if element >= 0:\n",
        "   break\n",
        "  total8 += element\n",
        "print(total8)"
      ],
      "execution_count": 0,
      "outputs": [
        {
          "output_type": "stream",
          "text": [
            "0\n"
          ],
          "name": "stdout"
        }
      ]
    },
    {
      "cell_type": "code",
      "metadata": {
        "id": "EqN9tk2LEMbG",
        "colab_type": "code",
        "outputId": "2ce2ba15-8c4c-4cfd-eb15-bcacdea8d7a7",
        "colab": {
          "base_uri": "https://localhost:8080/",
          "height": 34
        }
      },
      "source": [
        "x = range(2, -5, -1)\n",
        "for num in range(2, -5, -1):\n",
        " print(num, end = \",\")"
      ],
      "execution_count": 0,
      "outputs": [
        {
          "output_type": "stream",
          "text": [
            "2,1,0,-1,-2,-3,-4,"
          ],
          "name": "stdout"
        }
      ]
    },
    {
      "cell_type": "code",
      "metadata": {
        "id": "6GJlBMSVYco8",
        "colab_type": "code",
        "outputId": "9664cbca-1bc6-409c-d12d-cd40c01b065a",
        "colab": {
          "base_uri": "https://localhost:8080/",
          "height": 85
        }
      },
      "source": [
        "numbers =  [10, 20]\n",
        "items = [\"Chair\", \"Table\"]\n",
        "for x in numbers:\n",
        "  for y in items:\n",
        "    print(x,y)"
      ],
      "execution_count": 0,
      "outputs": [
        {
          "output_type": "stream",
          "text": [
            "10 Chair\n",
            "10 Table\n",
            "20 Chair\n",
            "20 Table\n"
          ],
          "name": "stdout"
        }
      ]
    },
    {
      "cell_type": "code",
      "metadata": {
        "id": "SB_cmmBRaZw-",
        "colab_type": "code",
        "outputId": "057d62a5-f0fd-4584-cd5e-1c19100a7f05",
        "colab": {
          "base_uri": "https://localhost:8080/",
          "height": 129
        }
      },
      "source": [
        "var i = 0;\n",
        "while (i < 3) \n",
        "{\n",
        "println(\"hi\");\n",
        "i++;\n",
        "}"
      ],
      "execution_count": 0,
      "outputs": [
        {
          "output_type": "error",
          "ename": "SyntaxError",
          "evalue": "ignored",
          "traceback": [
            "\u001b[0;36m  File \u001b[0;32m\"<ipython-input-20-74df0dfaca49>\"\u001b[0;36m, line \u001b[0;32m1\u001b[0m\n\u001b[0;31m    var i = 0;\u001b[0m\n\u001b[0m        ^\u001b[0m\n\u001b[0;31mSyntaxError\u001b[0m\u001b[0;31m:\u001b[0m invalid syntax\n"
          ]
        }
      ]
    },
    {
      "cell_type": "code",
      "metadata": {
        "id": "ZRwO-6OjcN8-",
        "colab_type": "code",
        "outputId": "1eebf335-ca69-49b4-cd3d-984286aa692d",
        "colab": {
          "base_uri": "https://localhost:8080/",
          "height": 68
        }
      },
      "source": [
        "x = range(5, 0, -2)\n",
        "for w in range(5, 0, -2):\n",
        " print(w)"
      ],
      "execution_count": 0,
      "outputs": [
        {
          "output_type": "stream",
          "text": [
            "5\n",
            "3\n",
            "1\n"
          ],
          "name": "stdout"
        }
      ]
    },
    {
      "cell_type": "code",
      "metadata": {
        "id": "3bygF3qTc7NA",
        "colab_type": "code",
        "outputId": "9425cead-6a40-461a-e73e-b4f467fcc880",
        "colab": {
          "base_uri": "https://localhost:8080/",
          "height": 34
        }
      },
      "source": [
        "x = [\"ab\", \"cd\"]\n",
        "for i in x:\n",
        "  i.upper()\n",
        "print(x)"
      ],
      "execution_count": 0,
      "outputs": [
        {
          "output_type": "stream",
          "text": [
            "['ab', 'cd']\n"
          ],
          "name": "stdout"
        }
      ]
    },
    {
      "cell_type": "code",
      "metadata": {
        "id": "-UxUPe_adl6Y",
        "colab_type": "code",
        "outputId": "9601a147-99e7-451b-9d13-63aa6af99467",
        "colab": {
          "base_uri": "https://localhost:8080/",
          "height": 34
        }
      },
      "source": [
        "x = list(range(10))\n",
        "print(x)"
      ],
      "execution_count": 0,
      "outputs": [
        {
          "output_type": "stream",
          "text": [
            "[0, 1, 2, 3, 4, 5, 6, 7, 8, 9]\n"
          ],
          "name": "stdout"
        }
      ]
    },
    {
      "cell_type": "code",
      "metadata": {
        "id": "BN-xk0RqeDza",
        "colab_type": "code",
        "outputId": "e9cb5c79-a9a9-4d37-aa97-0faaffc128a5",
        "colab": {
          "base_uri": "https://localhost:8080/",
          "height": 34
        }
      },
      "source": [
        "x = 0\n",
        "while (x < 100):\n",
        "  x += 2\n",
        "print(x)"
      ],
      "execution_count": 0,
      "outputs": [
        {
          "output_type": "stream",
          "text": [
            "100\n"
          ],
          "name": "stdout"
        }
      ]
    },
    {
      "cell_type": "code",
      "metadata": {
        "id": "Pc4qs5tPeaIb",
        "colab_type": "code",
        "outputId": "88878e0a-2683-4f9a-c0f9-0be5ad64bfba",
        "colab": {
          "base_uri": "https://localhost:8080/",
          "height": 85
        }
      },
      "source": [
        "x = \"abcd\"\n",
        "for i in x:\n",
        "  print(i.upper())"
      ],
      "execution_count": 0,
      "outputs": [
        {
          "output_type": "stream",
          "text": [
            "A\n",
            "B\n",
            "C\n",
            "D\n"
          ],
          "name": "stdout"
        }
      ]
    },
    {
      "cell_type": "code",
      "metadata": {
        "id": "nuUbS1dDmgD4",
        "colab_type": "code",
        "outputId": "b9bd54f1-f948-4782-9ff3-f9c708ca4247",
        "colab": {
          "base_uri": "https://localhost:8080/",
          "height": 68
        }
      },
      "source": [
        "userInput = int(input(\"Enter 1 or 2: \"))\n",
        "if userInput == 1:\n",
        "  print(\"Hello World\")\n",
        "  print(\"How are you?\")\n",
        "elif userInput == 2:\n",
        "  print(\"Python Rocks!\")\n",
        "elif userInput < 1:\n",
        "  print(\"My name is Irene Meniru\")\n",
        "  print(\"I have an awesome personality\")\n",
        "else:\n",
        "  print(\"You did not enter a valid number\")"
      ],
      "execution_count": 0,
      "outputs": [
        {
          "output_type": "stream",
          "text": [
            "Enter 1 or 2: 0\n",
            "My name is Irene Meniru\n",
            "I have an awesome personality\n"
          ],
          "name": "stdout"
        }
      ]
    },
    {
      "cell_type": "code",
      "metadata": {
        "id": "qwlWj7FBrGEJ",
        "colab_type": "code",
        "outputId": "d93f3179-5ebd-48da-d3bc-9e465d004ae9",
        "colab": {
          "base_uri": "https://localhost:8080/",
          "height": 34
        }
      },
      "source": [
        "r = 121\n",
        "if r % 3 == 0:\n",
        "  print(\"r is a multiple of 3\")\n",
        "else:\n",
        "  print(\"r is not a muliple of 3\")"
      ],
      "execution_count": 0,
      "outputs": [
        {
          "output_type": "stream",
          "text": [
            "r is not a muliple of 3\n"
          ],
          "name": "stdout"
        }
      ]
    },
    {
      "cell_type": "code",
      "metadata": {
        "id": "KLw_Ghhn3Ph5",
        "colab_type": "code",
        "outputId": "fe80476e-3c7f-45a4-ba19-7de37c13090c",
        "colab": {
          "base_uri": "https://localhost:8080/",
          "height": 51
        }
      },
      "source": [
        "dict1 = {0:10, 1:20}\n",
        "dict2 = {2:30}\n",
        "dict1.update(dict2)\n",
        "print(dict1)\n",
        "dict1.update({2:30})\n",
        "print(dict1)\n"
      ],
      "execution_count": 0,
      "outputs": [
        {
          "output_type": "stream",
          "text": [
            "{0: 10, 1: 20, 2: 30}\n",
            "{0: 10, 1: 20, 2: 30}\n"
          ],
          "name": "stdout"
        }
      ]
    },
    {
      "cell_type": "code",
      "metadata": {
        "id": "b80FY2jV_FI9",
        "colab_type": "code",
        "outputId": "c1385bff-4b27-4083-b229-7ff58df63282",
        "colab": {
          "base_uri": "https://localhost:8080/",
          "height": 51
        }
      },
      "source": [
        "keys = [\"Ten\", \"Twenty\", \"Thirty\"]\n",
        "values = [10, 20, 30]\n",
        "myDict = dict(zip(keys, values))\n",
        "print(myDict)\n",
        "print(\"dict: \" + str(myDict))"
      ],
      "execution_count": 0,
      "outputs": [
        {
          "output_type": "stream",
          "text": [
            "{'Ten': 10, 'Twenty': 20, 'Thirty': 30}\n",
            "dict: {'Ten': 10, 'Twenty': 20, 'Thirty': 30}\n"
          ],
          "name": "stdout"
        }
      ]
    },
    {
      "cell_type": "code",
      "metadata": {
        "id": "kD9t-ZAi_4sB",
        "colab_type": "code",
        "outputId": "6f6e2812-80d6-4f66-9309-c893c563c7a1",
        "colab": {
          "base_uri": "https://localhost:8080/",
          "height": 34
        }
      },
      "source": [
        "myDict = {}\n",
        "for key in keys:\n",
        "  for value in values:\n",
        "    myDict[key] = value\n",
        "    values.remove(value)\n",
        "    break\n",
        "print(\"dict: \" + str(myDict))"
      ],
      "execution_count": 0,
      "outputs": [
        {
          "output_type": "stream",
          "text": [
            "dict: {}\n"
          ],
          "name": "stdout"
        }
      ]
    },
    {
      "cell_type": "code",
      "metadata": {
        "id": "DAJRb1V2DSpJ",
        "colab_type": "code",
        "outputId": "0eb0b2bb-dcb6-4cbb-8574-fa58edc08238",
        "colab": {
          "base_uri": "https://localhost:8080/",
          "height": 34
        }
      },
      "source": [
        "a, b = 12, 5\n",
        "if a + b:\n",
        "  print(\"True\")\n",
        "else:\n",
        "  print(\"False\")"
      ],
      "execution_count": 0,
      "outputs": [
        {
          "output_type": "stream",
          "text": [
            "True\n"
          ],
          "name": "stdout"
        }
      ]
    },
    {
      "cell_type": "code",
      "metadata": {
        "id": "dPSnejmtDpmS",
        "colab_type": "code",
        "outputId": "c4a50c0f-3bcf-4c46-cf73-ce5b78f56ee8",
        "colab": {
          "base_uri": "https://localhost:8080/",
          "height": 85
        }
      },
      "source": [
        "for num in range(10, 14):\n",
        "  for i in range(2, num):\n",
        "    if num % i ==1:\n",
        "      print(num)\n",
        "      break\n"
      ],
      "execution_count": 0,
      "outputs": [
        {
          "output_type": "stream",
          "text": [
            "10\n",
            "11\n",
            "12\n",
            "13\n"
          ],
          "name": "stdout"
        }
      ]
    },
    {
      "cell_type": "code",
      "metadata": {
        "id": "Nr3lxcWyEYz7",
        "colab_type": "code",
        "outputId": "994f3f7e-8ca0-4048-a97b-83c683d543b5",
        "colab": {
          "base_uri": "https://localhost:8080/",
          "height": 34
        }
      },
      "source": [
        "x = 0\n",
        "a = 0\n",
        "b = -5\n",
        "if (a > 0):\n",
        "  if (b < 0):\n",
        "    x = x + 5\n",
        "  elif (a > 5):\n",
        "    x = x + 4\n",
        "  else:\n",
        "    x = x + 3\n",
        "else: \n",
        "  x = x + 2\n",
        "print(x)\n"
      ],
      "execution_count": 0,
      "outputs": [
        {
          "output_type": "stream",
          "text": [
            "2\n"
          ],
          "name": "stdout"
        }
      ]
    },
    {
      "cell_type": "code",
      "metadata": {
        "id": "o5jRYLSpFe7U",
        "colab_type": "code",
        "outputId": "91ee65fd-5e3d-41e6-baef-1476ebb87d83",
        "colab": {
          "base_uri": "https://localhost:8080/",
          "height": 34
        }
      },
      "source": [
        "var = 10\n",
        "for i in range(10):\n",
        "    for j in range(2, 10, 1):\n",
        "      if var % 2 == 0:\n",
        "          continue\n",
        "          var += 1\n",
        "    var += 1\n",
        "else:\n",
        "    var += 1\n",
        "print(var)\n",
        "\n"
      ],
      "execution_count": 0,
      "outputs": [
        {
          "output_type": "stream",
          "text": [
            "21\n"
          ],
          "name": "stdout"
        }
      ]
    },
    {
      "cell_type": "code",
      "metadata": {
        "id": "SZrnNZbiIWrX",
        "colab_type": "code",
        "outputId": "a6ffaeb2-b254-4bd5-b775-9f63fe6c4d21",
        "colab": {
          "base_uri": "https://localhost:8080/",
          "height": 34
        }
      },
      "source": [
        "d = {\"john\":40, \"peter\":45 }\n",
        "print(list(d.keys()))"
      ],
      "execution_count": 0,
      "outputs": [
        {
          "output_type": "stream",
          "text": [
            "['john', 'peter']\n"
          ],
          "name": "stdout"
        }
      ]
    },
    {
      "cell_type": "code",
      "metadata": {
        "id": "vQiZoK2eM0B8",
        "colab_type": "code",
        "outputId": "9603f561-16a7-4ad9-d397-7ec6d3f9d17f",
        "colab": {
          "base_uri": "https://localhost:8080/",
          "height": 170
        }
      },
      "source": [
        "help(round)"
      ],
      "execution_count": 0,
      "outputs": [
        {
          "output_type": "stream",
          "text": [
            "Help on built-in function round in module builtins:\n",
            "\n",
            "round(...)\n",
            "    round(number[, ndigits]) -> number\n",
            "    \n",
            "    Round a number to a given precision in decimal digits (default 0 digits).\n",
            "    This returns an int when called with one argument, otherwise the\n",
            "    same type as the number. ndigits may be negative.\n",
            "\n"
          ],
          "name": "stdout"
        }
      ]
    },
    {
      "cell_type": "code",
      "metadata": {
        "id": "_tnS0o2YOXIJ",
        "colab_type": "code",
        "outputId": "a9b602eb-da4d-4326-ff3b-21fc2cf01672",
        "colab": {
          "base_uri": "https://localhost:8080/",
          "height": 34
        }
      },
      "source": [
        "def melon():\n",
        "  print(\"I am a blessing to my generation\")\n",
        "melon()"
      ],
      "execution_count": 0,
      "outputs": [
        {
          "output_type": "stream",
          "text": [
            "I am a blessing to my generation\n"
          ],
          "name": "stdout"
        }
      ]
    },
    {
      "cell_type": "code",
      "metadata": {
        "id": "OIQlX-eATFSw",
        "colab_type": "code",
        "outputId": "f50e0d22-95b1-4bea-af46-686ec51cecd3",
        "colab": {
          "base_uri": "https://localhost:8080/",
          "height": 34
        }
      },
      "source": [
        "def bitcoin_to_usd(btc):\n",
        "  amount = btc * 127\n",
        "  print(amount)\n",
        "bitcoin_to_usd(258)\n"
      ],
      "execution_count": 0,
      "outputs": [
        {
          "output_type": "stream",
          "text": [
            "32766\n"
          ],
          "name": "stdout"
        }
      ]
    },
    {
      "cell_type": "code",
      "metadata": {
        "id": "j-VosidhVfho",
        "colab_type": "code",
        "outputId": "2e1ec242-202d-40b2-d530-c7097c7b3f03",
        "colab": {
          "base_uri": "https://localhost:8080/",
          "height": 51
        }
      },
      "source": [
        "def dollars_to_naira(dollars):\n",
        "  amount = dollars * 390\n",
        "  print(amount)\n",
        "dollars_to_naira(2000)\n",
        "melon()"
      ],
      "execution_count": 0,
      "outputs": [
        {
          "output_type": "stream",
          "text": [
            "780000\n",
            "I am a blessing to my generation\n"
          ],
          "name": "stdout"
        }
      ]
    },
    {
      "cell_type": "code",
      "metadata": {
        "id": "37GJ-nJgYm3p",
        "colab_type": "code",
        "colab": {}
      },
      "source": [
        ""
      ],
      "execution_count": 0,
      "outputs": []
    },
    {
      "cell_type": "code",
      "metadata": {
        "id": "XmbHrLKHri8G",
        "colab_type": "code",
        "outputId": "3d6ea310-7ef5-4aa1-896b-01eb713e3039",
        "colab": {
          "base_uri": "https://localhost:8080/",
          "height": 34
        }
      },
      "source": [
        "def addition(a,b):\n",
        "  return a + b\n",
        "answer = addition(5, 6)\n",
        "print(answer)\n",
        "\n"
      ],
      "execution_count": 0,
      "outputs": [
        {
          "output_type": "stream",
          "text": [
            "11\n"
          ],
          "name": "stdout"
        }
      ]
    },
    {
      "cell_type": "code",
      "metadata": {
        "id": "wDPWlJpcv-mq",
        "colab_type": "code",
        "outputId": "539a75cc-a8d7-45ab-d7a1-f38eae2538bc",
        "colab": {
          "base_uri": "https://localhost:8080/",
          "height": 34
        }
      },
      "source": [
        "def sum(numbers):\n",
        "  total = 0\n",
        "  for x in numbers:\n",
        "    total += x\n",
        "  return total\n",
        "print(sum((8, 2, 3, 0, 7)))"
      ],
      "execution_count": 0,
      "outputs": [
        {
          "output_type": "stream",
          "text": [
            "20\n"
          ],
          "name": "stdout"
        }
      ]
    },
    {
      "cell_type": "code",
      "metadata": {
        "id": "tKR0-ao2yDZP",
        "colab_type": "code",
        "outputId": "07ae0294-2b83-4702-dda7-ce495d5daace",
        "colab": {
          "base_uri": "https://localhost:8080/",
          "height": 34
        }
      },
      "source": [
        "def printMax(a, b):\n",
        "  if a > b:\n",
        "      print(a, \" is maximum\")\n",
        "  elif a == b:\n",
        "      print(a, \"is equal to\", b)\n",
        "  else:\n",
        "      print(b, \"is maximum\")\n",
        "printMax(3, 4)"
      ],
      "execution_count": 0,
      "outputs": [
        {
          "output_type": "stream",
          "text": [
            "4 is maximum\n"
          ],
          "name": "stdout"
        }
      ]
    },
    {
      "cell_type": "code",
      "metadata": {
        "id": "aWSsYyOs23so",
        "colab_type": "code",
        "colab": {}
      },
      "source": [
        ""
      ],
      "execution_count": 0,
      "outputs": []
    }
  ]
}